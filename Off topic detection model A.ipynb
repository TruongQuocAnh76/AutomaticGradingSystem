{
 "cells": [
  {
   "cell_type": "code",
   "execution_count": 2,
   "metadata": {},
   "outputs": [
    {
     "name": "stdout",
     "output_type": "stream",
     "text": [
      "8\n"
     ]
    },
    {
     "data": {
      "text/plain": [
       "(12976, 2)"
      ]
     },
     "execution_count": 2,
     "metadata": {},
     "output_type": "execute_result"
    }
   ],
   "source": [
    "\n",
    "import pandas as pd\n",
    "import os\n",
    "import warnings\n",
    "warnings.filterwarnings('ignore')\n",
    "DATASET_DIR = './data/'\n",
    "GLOVE_DIR = './glove.6B/'\n",
    "SAVE_DIR = './'\n",
    "\n",
    "X = pd.read_csv(os.path.join(DATASET_DIR, 'training_set_rel3.tsv'), sep='\\t', encoding='ISO-8859-1')\n",
    "X = X.dropna(axis=1)\n",
    "X = X.drop(columns=['rater1_domain1', 'rater2_domain1', 'domain1_score', 'essay_id'])\n",
    "prompt = X['essay_set']\n",
    "# X = X.drop(columns=['essay_set'])\n",
    "y = open(os.path.join(DATASET_DIR, 'prompt.txt')).read().splitlines()\n",
    "print(len(y))\n",
    "X.shape"
   ]
  },
  {
   "cell_type": "code",
   "execution_count": 3,
   "metadata": {},
   "outputs": [],
   "source": [
    "import numpy as np\n",
    "import nltk\n",
    "import re\n",
    "from nltk.corpus import stopwords\n",
    "\n",
    "def essay_to_wordlist(essay_v, remove_stopwords):\n",
    "    \"\"\"Remove the tagged labels and word tokenize the sentence.\"\"\"\n",
    "    essay_v = re.sub(\"[^a-zA-Z]\", \" \", essay_v)\n",
    "    words = essay_v.lower().split()\n",
    "    if remove_stopwords:\n",
    "        stops = set(stopwords.words(\"english\"))\n",
    "        words = [w for w in words if not w in stops]\n",
    "    return (words)\n",
    "\n",
    "def essay_to_sentences(essay_v, remove_stopwords):\n",
    "    \"\"\"Sentence tokenize the essay and call essay_to_wordlist() for word tokenization.\"\"\"\n",
    "    tokenizer = nltk.data.load('tokenizers/punkt/english.pickle')\n",
    "    raw_sentences = tokenizer.tokenize(essay_v.strip())\n",
    "    sentences = []\n",
    "    for raw_sentence in raw_sentences:\n",
    "        if len(raw_sentence) > 0:\n",
    "            sentences.append(essay_to_wordlist(raw_sentence, remove_stopwords))\n",
    "    return sentences\n",
    "\n",
    "def makeFeatureVec(words, model, num_features):\n",
    "    \"\"\"Make Feature Vector from the words list of an Essay.\"\"\"\n",
    "    featureVec = np.zeros((num_features,),dtype=\"float32\")\n",
    "    num_words = 0.\n",
    "    index2word_set = set(model.wv.index_to_key)\n",
    "    for word in words:\n",
    "        if word in index2word_set:\n",
    "            num_words += 1\n",
    "            featureVec = np.add(featureVec,model.wv[word])        \n",
    "    featureVec = np.divide(featureVec,num_words)\n",
    "    return featureVec\n",
    "\n",
    "def getAvgFeatureVecs(essays, model, num_features):\n",
    "    \"\"\"Main function to generate the word vectors for word2vec model.\"\"\"\n",
    "    counter = 0\n",
    "    essayFeatureVecs = np.zeros((len(essays),num_features),dtype=\"float32\")\n",
    "    for essay in essays:\n",
    "        essayFeatureVecs[counter] = makeFeatureVec(essay, model, num_features)\n",
    "        counter = counter + 1\n",
    "    return essayFeatureVecs"
   ]
  },
  {
   "cell_type": "code",
   "execution_count": 4,
   "metadata": {},
   "outputs": [],
   "source": [
    "sentences = []\n",
    "for i in y:\n",
    "  sentences += essay_to_sentences(i, remove_stopwords = True)\n",
    "\n",
    "for essay in X['essay']:\n",
    "  sentences += essay_to_sentences(essay, remove_stopwords = True)\n"
   ]
  },
  {
   "cell_type": "code",
   "execution_count": 5,
   "metadata": {},
   "outputs": [],
   "source": [
    "from gensim.models import Word2Vec\n",
    "num_features = 300 \n",
    "min_word_count = 40\n",
    "num_workers = 4\n",
    "context = 10\n",
    "downsampling = 1e-3\n",
    "\n",
    "# print(\"Training Word2Vec Model...\")\n",
    "# model = Word2Vec(sentences, workers=num_workers, vector_size=num_features, min_count = min_word_count, window = context, sample = downsampling)\n",
    "\n",
    "# model.init_sims(replace=True)\n",
    "# model.save('./w2v_otd.model')\n",
    "\n",
    "model = Word2Vec.load(\"./w2v_otd.model\")\n"
   ]
  },
  {
   "cell_type": "code",
   "execution_count": 6,
   "metadata": {},
   "outputs": [],
   "source": [
    "clean_essays = []\n",
    "for essay_v in X['essay']:\n",
    "    clean_essays.append(essay_to_wordlist(essay_v, remove_stopwords=True))\n",
    "data_vecs = getAvgFeatureVecs(clean_essays, model, num_features)"
   ]
  },
  {
   "cell_type": "code",
   "execution_count": 7,
   "metadata": {},
   "outputs": [],
   "source": [
    "from sklearn.metrics.pairwise import cosine_similarity\n",
    "\n",
    "def calculate_z_scores(cosine_similarities, mean, std_dev):\n",
    "    \"\"\"Calculate the z-scores based on cosine similarities.\"\"\"\n",
    "    return (cosine_similarities - mean) / std_dev "
   ]
  },
  {
   "cell_type": "code",
   "execution_count": 23,
   "metadata": {},
   "outputs": [],
   "source": [
    "from sklearn.model_selection import train_test_split\n",
    "\n",
    "X_train, X_valid, y_train, y_valid= train_test_split(data_vecs, prompt, test_size=0.2, random_state=42)\n",
    "y_valid = np.array(y_valid)\n",
    "\n",
    "true = y_valid.copy()\n",
    "np.random.seed(42)\n",
    "np.random.shuffle(y_valid)\n",
    "true = [1 if true[i] == y_valid[i] else 0 for i in range(y_valid.shape[0])]"
   ]
  },
  {
   "cell_type": "code",
   "execution_count": 10,
   "metadata": {},
   "outputs": [],
   "source": [
    "\n",
    "\n",
    "y_sentences = []\n",
    "for i in y:\n",
    "  y_sentences.append(essay_to_wordlist(i, remove_stopwords = True))\n",
    "prompt_vector = getAvgFeatureVecs(y_sentences, model, num_features)\n",
    "\n",
    "train_essays = data_vecs\n",
    "\n",
    "# cos similarity between training essays and its corresponding prompt\n",
    "prompt_similarities = np.diag(cosine_similarity(X_train, prompt_vector[y_train- 1]))\n",
    "\n",
    "mean_prompt_cos = np.mean(prompt_similarities)\n",
    "std_dev_prompt_cos = np.std(prompt_similarities)\n",
    "\n",
    "def modelA(novel_essays, novel_essays_prompt):\n",
    "  '''\n",
    "  predict off-topicity using cosine similarity and z-scores\n",
    "  '''\n",
    "  # cos similarity between novel essay and training essays\n",
    "  cosine_similarities = cosine_similarity(novel_essays, X_train)\n",
    "\n",
    "  max_cos_sim = np.max(cosine_similarities)\n",
    "  prompt_cos = np.diag(cosine_similarity(novel_essays, novel_essays_prompt))\n",
    "\n",
    "  mean_max_cos_sim = np.mean(cosine_similarities)\n",
    "  std_dev_max_cos_sim = np.std(cosine_similarities)\n",
    "\n",
    "  z_scores_max_cos_sim = calculate_z_scores(max_cos_sim, mean_max_cos_sim, std_dev_max_cos_sim)\n",
    "  z_scores_prompt_cos = calculate_z_scores(prompt_cos, mean_prompt_cos, std_dev_prompt_cos)\n",
    "\n",
    "  final_score = (z_scores_max_cos_sim + z_scores_prompt_cos) / 2\n",
    "  # if score < 0 then pred = 0, else pred = 1\n",
    "  return final_score"
   ]
  },
  {
   "cell_type": "code",
   "execution_count": 15,
   "metadata": {},
   "outputs": [
    {
     "name": "stdout",
     "output_type": "stream",
     "text": [
      "[ 0.2555884   0.59432197 -0.90641654 ... -0.43111813  0.25972068\n",
      "  0.50426465]\n"
     ]
    }
   ],
   "source": [
    "pred_proba = modelA(X_valid, prompt_vector[y_valid - 1])\n",
    "print(pred_proba)"
   ]
  },
  {
   "cell_type": "code",
   "execution_count": 24,
   "metadata": {},
   "outputs": [
    {
     "data": {
      "image/png": "[encoded data removed]",
      "text/plain": [
       "<Figure size 640x480 with 1 Axes>"
      ]
     },
     "metadata": {},
     "output_type": "display_data"
    },
    {
     "name": "stdout",
     "output_type": "stream",
     "text": [
      "0.60482925\n"
     ]
    }
   ],
   "source": [
    "# confusion matrix, roc curve, accuracy\n",
    "from sklearn.metrics import confusion_matrix, roc_auc_score, accuracy_score, roc_curve, auc, RocCurveDisplay\n",
    "import matplotlib.pyplot as plt\n",
    "\n",
    "fpr, tpr, threshold = roc_curve(true, pred_proba)\n",
    "roc_auc = auc(fpr, tpr)\n",
    "\n",
    "roc_display = RocCurveDisplay(fpr=fpr, tpr=tpr, roc_auc=roc_auc)\n",
    "roc_display.plot()\n",
    "plt.show()\n",
    "\n",
    "# find threshold\n",
    "optimal_idx = np.argmax(tpr - fpr)\n",
    "optimal_threshold = threshold[optimal_idx]\n",
    "print(optimal_threshold)"
   ]
  },
  {
   "cell_type": "code",
   "execution_count": 25,
   "metadata": {},
   "outputs": [
    {
     "name": "stdout",
     "output_type": "stream",
     "text": [
      "[[2027  240]\n",
      " [  39  290]]\n",
      "0.8925269645608629\n"
     ]
    }
   ],
   "source": [
    "# confusion matrix, accuracy\n",
    "pred = [1 if i >= optimal_threshold else 0 for i in pred_proba]\n",
    "print(confusion_matrix(true, pred))\n",
    "print(accuracy_score(true, pred))\n"
   ]
  }
 ],
 "metadata": {
  "kernelspec": {
   "display_name": "myenv",
   "language": "python",
   "name": "python3"
  },
  "language_info": {
   "codemirror_mode": {
    "name": "ipython",
    "version": 3
   },
   "file_extension": ".py",
   "mimetype": "text/x-python",
   "name": "python",
   "nbconvert_exporter": "python",
   "pygments_lexer": "ipython3",
   "version": "3.10.12"
  }
 },
 "nbformat": 4,
 "nbformat_minor": 2
}
