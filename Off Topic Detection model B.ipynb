{
 "cells": [
  {
   "cell_type": "code",
   "execution_count": 29,
   "metadata": {},
   "outputs": [
    {
     "data": {
      "text/html": [
       "<div>\n",
       "<style scoped>\n",
       "    .dataframe tbody tr th:only-of-type {\n",
       "        vertical-align: middle;\n",
       "    }\n",
       "\n",
       "    .dataframe tbody tr th {\n",
       "        vertical-align: top;\n",
       "    }\n",
       "\n",
       "    .dataframe thead th {\n",
       "        text-align: right;\n",
       "    }\n",
       "</style>\n",
       "<table border=\"1\" class=\"dataframe\">\n",
       "  <thead>\n",
       "    <tr style=\"text-align: right;\">\n",
       "      <th></th>\n",
       "      <th>essay_set</th>\n",
       "      <th>essay</th>\n",
       "    </tr>\n",
       "  </thead>\n",
       "  <tbody>\n",
       "    <tr>\n",
       "      <th>0</th>\n",
       "      <td>1</td>\n",
       "      <td>Dear local newspaper, I think effects computer...</td>\n",
       "    </tr>\n",
       "    <tr>\n",
       "      <th>1</th>\n",
       "      <td>1</td>\n",
       "      <td>Dear @CAPS1 @CAPS2, I believe that using compu...</td>\n",
       "    </tr>\n",
       "    <tr>\n",
       "      <th>2</th>\n",
       "      <td>1</td>\n",
       "      <td>Dear, @CAPS1 @CAPS2 @CAPS3 More and more peopl...</td>\n",
       "    </tr>\n",
       "    <tr>\n",
       "      <th>3</th>\n",
       "      <td>1</td>\n",
       "      <td>Dear Local Newspaper, @CAPS1 I have found that...</td>\n",
       "    </tr>\n",
       "    <tr>\n",
       "      <th>4</th>\n",
       "      <td>1</td>\n",
       "      <td>Dear @LOCATION1, I know having computers has a...</td>\n",
       "    </tr>\n",
       "  </tbody>\n",
       "</table>\n",
       "</div>"
      ],
      "text/plain": [
       "   essay_set                                              essay\n",
       "0          1  Dear local newspaper, I think effects computer...\n",
       "1          1  Dear @CAPS1 @CAPS2, I believe that using compu...\n",
       "2          1  Dear, @CAPS1 @CAPS2 @CAPS3 More and more peopl...\n",
       "3          1  Dear Local Newspaper, @CAPS1 I have found that...\n",
       "4          1  Dear @LOCATION1, I know having computers has a..."
      ]
     },
     "execution_count": 29,
     "metadata": {},
     "output_type": "execute_result"
    }
   ],
   "source": [
    "import pandas as pd\n",
    "import os\n",
    "import warnings\n",
    "warnings.filterwarnings('ignore')\n",
    "DATASET_DIR = './data/'\n",
    "GLOVE_DIR = './glove.6B/'\n",
    "SAVE_DIR = './'\n",
    "\n",
    "X = pd.read_csv(os.path.join(DATASET_DIR, 'training_set_rel3.tsv'), sep='\\t', encoding='ISO-8859-1')\n",
    "X = X.dropna(axis=1)\n",
    "X = X.drop(columns=['rater1_domain1', 'rater2_domain1', 'domain1_score', 'essay_id'])\n",
    "prompt_index = X['essay_set']\n",
    "# X = X.drop(columns=['essay_set'])\n",
    "prompts_text = open(os.path.join(DATASET_DIR, 'prompt.txt')).read().splitlines()\n",
    "X.head()"
   ]
  },
  {
   "cell_type": "code",
   "execution_count": 31,
   "metadata": {},
   "outputs": [],
   "source": [
    "from collections import Counter\n",
    "import re\n",
    "from nltk.corpus import stopwords\n",
    "import numpy as np\n",
    "\n",
    "def tokenize(essays):\n",
    "  \"\"\"Tokenize essay into words, remove stopwords and lowercasing\"\"\"\n",
    "  res = []\n",
    "  for essay in essays:\n",
    "    essay = re.sub(r'[^\\w\\s]', '', essay)  # Remove punctuation\n",
    "    essay = essay.lower()  # Lowercase\n",
    "    essay = essay.split()\n",
    "    essay = [word for word in essay if word not in stopwords.words('english')]\n",
    "    res.append(essay)\n",
    "  return res\n",
    "    \n",
    "def compute_generic_rate(corpus):\n",
    "    \"\"\"Compute generic rates G_i from the entire corpus.\"\"\"\n",
    "    word_counts = Counter()\n",
    "    total_words = 0\n",
    "    for essay in corpus:\n",
    "        word_counts.update(essay)\n",
    "        total_words += len(essay)\n",
    "    return {word: count / total_words for word, count in word_counts.items()}\n",
    "\n",
    "def compute_prompt_specific_rate(prompt_corpus):\n",
    "    \"\"\"Compute prompt-specific rates S_i for a specific prompt.\"\"\"\n",
    "    word_counts = Counter()\n",
    "    total_words = 0\n",
    "    for essay in prompt_corpus:\n",
    "      word_counts.update(essay)\n",
    "      total_words += len(essay)\n",
    "    \n",
    "    return {word: count / total_words for word, count in word_counts.items()}\n",
    "\n",
    "def compute_psi(essay, generic_rate, prompt_specific_rate):\n",
    "    \"\"\"Compute the Prompt-Specific Index for a single essay.\"\"\"\n",
    "    N = len(essay)  # Total number of words in the essay\n",
    "    if N == 0:  # Avoid division by zero\n",
    "        return 0\n",
    "\n",
    "    psi_sum = 0\n",
    "    for word in essay:\n",
    "        G_i = generic_rate.get(word, 0)  # Default to 0 if word not in vocabulary\n",
    "        S_i = prompt_specific_rate.get(word, 0)  # Default to 0 if word not in prompt\n",
    "        psi_sum += np.sqrt(S_i * (1 - G_i))\n",
    "\n",
    "    return psi_sum / N\n"
   ]
  },
  {
   "cell_type": "code",
   "execution_count": 32,
   "metadata": {},
   "outputs": [],
   "source": [
    "# process all essays\n",
    "# X_p = pd.DataFrame(tokenize(X['essay']))"
   ]
  },
  {
   "cell_type": "code",
   "execution_count": 33,
   "metadata": {},
   "outputs": [],
   "source": [
    "X_p = np.array(pd.read_csv(os.path.join(SAVE_DIR, 'X_p.csv')))\n",
    "tmp = []\n",
    "for i in range(X_p.shape[0]):\n",
    "  tmp.append(np.array([x for x in X_p[i] if not pd.isnull(x)]))\n",
    "X_p = tmp"
   ]
  },
  {
   "cell_type": "code",
   "execution_count": 34,
   "metadata": {},
   "outputs": [],
   "source": [
    "# save X_p cuz it takes 12mins to compute\n",
    "# X_p_df = pd.DataFrame(X_p)\n",
    "# X_p_df.to_csv(os.path.join(SAVE_DIR, 'X_p.csv'), index=False)"
   ]
  },
  {
   "cell_type": "code",
   "execution_count": 35,
   "metadata": {},
   "outputs": [],
   "source": [
    "# generic_rate = compute_generic_rate(X_p)\n",
    "\n",
    "# essay_prompt = 1\n",
    "# indices = [i for i, index in enumerate(prompt_index) if index == essay_prompt]\n",
    "# prompt_corpus =  [X_p[i] for i in indices]\n",
    "\n",
    "# prompt_rate = compute_prompt_specific_rate(prompt_corpus)\n",
    "# psi = compute_psi(X_p[-1], generic_rate, prompt_rate)\n",
    "# print(psi)"
   ]
  },
  {
   "cell_type": "code",
   "execution_count": 44,
   "metadata": {},
   "outputs": [],
   "source": [
    "# df = X_p.copy()\n",
    "np.random.seed(0)\n",
    "from sklearn.model_selection import train_test_split\n",
    "# train valid split\n",
    "X_train, X_valid, y_train, y_valid = train_test_split(X_p, X['essay_set'], test_size=0.2, random_state=0)\n",
    "# split train into on and off topic\n",
    "X_on, X_off, y_on, y_off= train_test_split(X_valid, y_valid, test_size=0.5, random_state=0)\n",
    "# make y_off prompt different\n",
    "\n",
    "# split y_valid to 2 parts, just y_valid\n",
    "test = y_off\n",
    "y_off= y_valid.apply(lambda x: (x+np.random.randint(1, 9))%9 + 1)\n",
    "for i in range(len(test)):\n",
    "  if(test.iloc[i] == y_off.iloc[i]):\n",
    "    #change y off so it is different\n",
    "    y_off.iloc[i] = (y_off.iloc[i] + 1) % 9 + 1"
   ]
  },
  {
   "cell_type": "code",
   "execution_count": 45,
   "metadata": {},
   "outputs": [],
   "source": [
    "y_on, y_off = y_on.reset_index(drop=True), y_off.reset_index(drop=True)"
   ]
  },
  {
   "cell_type": "code",
   "execution_count": 37,
   "metadata": {},
   "outputs": [],
   "source": [
    "generic_rate= compute_generic_rate(X_train)\n",
    "# generic_rate_off= compute_generic_rate(X_off)"
   ]
  },
  {
   "cell_type": "code",
   "execution_count": 39,
   "metadata": {},
   "outputs": [],
   "source": [
    "prompt_rates= []\n",
    "for i in range(1, 9):\n",
    "  indices = [j for j, index in enumerate(y_train) if index == i]\n",
    "  prompt_corpus =  [X_train[j] for j in indices]\n",
    "  prompt_rates.append(compute_prompt_specific_rate(prompt_corpus))\n",
    "\n",
    "# prompt_rates_off = []\n",
    "# for i in range(1, 9):\n",
    "#   indices = [j for j, index in enumerate(test) if index == i]\n",
    "#   prompt_corpus =  [X_off[j] for j in indices]\n",
    "#   prompt_rates_off.append(compute_prompt_specific_rate(prompt_corpus))"
   ]
  },
  {
   "cell_type": "code",
   "execution_count": null,
   "metadata": {},
   "outputs": [],
   "source": [
    "\n",
    "# compute psi for all essays\n",
    "psi_on = []\n",
    "i = 0\n",
    "for essay in X_on:\n",
    "  psi_on.append(compute_psi(essay, generic_rate, prompt_rates[y_on[i] - 1]))\n",
    "  i += 1\n",
    "\n",
    "psi_off = []\n",
    "i = 0\n",
    "for essay in X_off:\n",
    "  psi_off.append(compute_psi(essay, generic_rate, prompt_rates[y_off[i] - 1]))\n"
   ]
  },
  {
   "cell_type": "markdown",
   "metadata": {},
   "source": [
    "\n",
    "determining the threshold using roc "
   ]
  },
  {
   "cell_type": "code",
   "execution_count": 55,
   "metadata": {},
   "outputs": [
    {
     "data": {
      "image/png": "[encoded data removed]",
      "text/plain": [
       "<Figure size 640x480 with 1 Axes>"
      ]
     },
     "metadata": {},
     "output_type": "display_data"
    },
    {
     "name": "stdout",
     "output_type": "stream",
     "text": [
      "0.02993962423767886\n"
     ]
    }
   ],
   "source": [
    "# find threshold for psi \n",
    "from sklearn.metrics import roc_curve, auc, RocCurveDisplay\n",
    "from matplotlib import pyplot as plt\n",
    "\n",
    "# concat 2 arrays\n",
    "pred_proba = np.array((psi_on, psi_off)).flatten()\n",
    "true = np.array((np.ones(len(psi_on)).tolist(), np.zeros(len(psi_off)).tolist())).flatten()\n",
    "fpr, tpr, threshold = roc_curve(true, pred_proba)\n",
    "roc_auc = auc(fpr, tpr)\n",
    "\n",
    "roc_display = RocCurveDisplay(fpr=fpr, tpr=tpr, roc_auc=roc_auc)\n",
    "roc_display.plot()\n",
    "plt.show()\n",
    "\n",
    "# find threshold\n",
    "optimal_idx = np.argmax(tpr - fpr)\n",
    "optimal_threshold = threshold[optimal_idx]\n",
    "print(optimal_threshold)"
   ]
  },
  {
   "cell_type": "code",
   "execution_count": 57,
   "metadata": {},
   "outputs": [
    {
     "name": "stdout",
     "output_type": "stream",
     "text": [
      "0.9171802773497689\n",
      "[[1096  202]\n",
      " [  13 1285]]\n"
     ]
    }
   ],
   "source": [
    "# compute accuracy, confusion matrix\n",
    "pred = np.array([1 if x > optimal_threshold else 0 for x in pred_proba])\n",
    "accuracy = np.mean(pred == true)\n",
    "print(accuracy)\n",
    "\n",
    "from sklearn.metrics import confusion_matrix\n",
    "cm = confusion_matrix(true, pred)\n",
    "print(cm)"
   ]
  },
  {
   "cell_type": "markdown",
   "metadata": {},
   "source": [
    "determine the threshold using the percentile value"
   ]
  },
  {
   "cell_type": "code",
   "execution_count": 60,
   "metadata": {},
   "outputs": [
    {
     "name": "stdout",
     "output_type": "stream",
     "text": [
      "0.036904935323123514\n",
      "0.9006163328197226\n",
      "[[1105  193]\n",
      " [  65 1233]]\n"
     ]
    }
   ],
   "source": [
    "threshold = np.percentile(psi_on, 5)\n",
    "print(threshold)\n",
    "# confusion matrix\n",
    "pred = np.array([1 if x > threshold else 0 for x in pred_proba])\n",
    "accuracy = np.mean(pred == true)\n",
    "print(accuracy)\n",
    "\n",
    "cm = confusion_matrix(true, pred)\n",
    "print(cm)"
   ]
  }
 ],
 "metadata": {
  "kernelspec": {
   "display_name": "myenv",
   "language": "python",
   "name": "python3"
  },
  "language_info": {
   "codemirror_mode": {
    "name": "ipython",
    "version": 3
   },
   "file_extension": ".py",
   "mimetype": "text/x-python",
   "name": "python",
   "nbconvert_exporter": "python",
   "pygments_lexer": "ipython3",
   "version": "3.10.12"
  }
 },
 "nbformat": 4,
 "nbformat_minor": 2
}
