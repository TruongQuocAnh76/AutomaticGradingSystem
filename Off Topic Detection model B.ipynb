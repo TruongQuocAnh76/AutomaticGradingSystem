{
 "cells": [
  {
   "cell_type": "code",
   "execution_count": 39,
   "metadata": {},
   "outputs": [
    {
     "data": {
      "text/html": [
       "<div>\n",
       "<style scoped>\n",
       "    .dataframe tbody tr th:only-of-type {\n",
       "        vertical-align: middle;\n",
       "    }\n",
       "\n",
       "    .dataframe tbody tr th {\n",
       "        vertical-align: top;\n",
       "    }\n",
       "\n",
       "    .dataframe thead th {\n",
       "        text-align: right;\n",
       "    }\n",
       "</style>\n",
       "<table border=\"1\" class=\"dataframe\">\n",
       "  <thead>\n",
       "    <tr style=\"text-align: right;\">\n",
       "      <th></th>\n",
       "      <th>essay_set</th>\n",
       "      <th>essay</th>\n",
       "    </tr>\n",
       "  </thead>\n",
       "  <tbody>\n",
       "    <tr>\n",
       "      <th>0</th>\n",
       "      <td>1</td>\n",
       "      <td>Dear local newspaper, I think effects computer...</td>\n",
       "    </tr>\n",
       "    <tr>\n",
       "      <th>1</th>\n",
       "      <td>1</td>\n",
       "      <td>Dear @CAPS1 @CAPS2, I believe that using compu...</td>\n",
       "    </tr>\n",
       "    <tr>\n",
       "      <th>2</th>\n",
       "      <td>1</td>\n",
       "      <td>Dear, @CAPS1 @CAPS2 @CAPS3 More and more peopl...</td>\n",
       "    </tr>\n",
       "    <tr>\n",
       "      <th>3</th>\n",
       "      <td>1</td>\n",
       "      <td>Dear Local Newspaper, @CAPS1 I have found that...</td>\n",
       "    </tr>\n",
       "    <tr>\n",
       "      <th>4</th>\n",
       "      <td>1</td>\n",
       "      <td>Dear @LOCATION1, I know having computers has a...</td>\n",
       "    </tr>\n",
       "  </tbody>\n",
       "</table>\n",
       "</div>"
      ],
      "text/plain": [
       "   essay_set                                              essay\n",
       "0          1  Dear local newspaper, I think effects computer...\n",
       "1          1  Dear @CAPS1 @CAPS2, I believe that using compu...\n",
       "2          1  Dear, @CAPS1 @CAPS2 @CAPS3 More and more peopl...\n",
       "3          1  Dear Local Newspaper, @CAPS1 I have found that...\n",
       "4          1  Dear @LOCATION1, I know having computers has a..."
      ]
     },
     "execution_count": 39,
     "metadata": {},
     "output_type": "execute_result"
    }
   ],
   "source": [
    "import pandas as pd\n",
    "import os\n",
    "import warnings\n",
    "warnings.filterwarnings('ignore')\n",
    "DATASET_DIR = './data/'\n",
    "GLOVE_DIR = './glove.6B/'\n",
    "SAVE_DIR = './'\n",
    "\n",
    "X = pd.read_csv(os.path.join(DATASET_DIR, 'training_set_rel3.tsv'), sep='\\t', encoding='ISO-8859-1')\n",
    "X = X.dropna(axis=1)\n",
    "X = X.drop(columns=['rater1_domain1', 'rater2_domain1', 'domain1_score', 'essay_id'])\n",
    "prompt_index = X['essay_set']\n",
    "# X = X.drop(columns=['essay_set'])\n",
    "prompts_text = open(os.path.join(DATASET_DIR, 'prompt.txt')).read().splitlines()\n",
    "X.head()"
   ]
  },
  {
   "cell_type": "code",
   "execution_count": 32,
   "metadata": {},
   "outputs": [],
   "source": [
    "from collections import Counter\n",
    "import re\n",
    "from nltk.corpus import stopwords\n",
    "import numpy as np\n",
    "\n",
    "def tokenize(essays):\n",
    "  \"\"\"Tokenize essay into words, remove stopwords and lowercasing\"\"\"\n",
    "  res = []\n",
    "  for essay in essays:\n",
    "    essay = re.sub(r'[^\\w\\s]', '', essay)  \n",
    "    essay = essay.lower()  \n",
    "    essay = essay.split()\n",
    "    essay = [word for word in essay if word not in stopwords.words('english')]\n",
    "    res.append(essay)\n",
    "  return res\n",
    "    \n",
    "def compute_words_rate(corpus):\n",
    "  \"\"\"Compute generic rates G_i from the entire corpus.\"\"\"\n",
    "  word_counts = Counter()\n",
    "  total_words = 0\n",
    "  for essay in corpus:\n",
    "    word_counts.update(essay)\n",
    "    total_words += len(essay)\n",
    "  return {word: count / total_words for word, count in word_counts.items()}\n",
    "\n",
    "def compute_psi(essay, generic_rate, prompt_specific_rate):\n",
    "    \"\"\"Compute the Prompt-Specific Index for a single essay.\"\"\"\n",
    "    N = len(essay)  \n",
    "    if N == 0:  # Avoid division by zero\n",
    "        return 0\n",
    "\n",
    "    psi_sum = 0\n",
    "    for word in essay:\n",
    "        G_i = generic_rate.get(word, 0)\n",
    "        S_i = prompt_specific_rate.get(word, 0)\n",
    "        psi_sum += np.sqrt(S_i * (1 - G_i))\n",
    "\n",
    "    return psi_sum / N\n"
   ]
  },
  {
   "cell_type": "code",
   "execution_count": 33,
   "metadata": {},
   "outputs": [],
   "source": [
    "X_p = np.array(pd.read_csv(os.path.join(SAVE_DIR, 'X_p.csv')))\n",
    "tmp = []\n",
    "for i in range(X_p.shape[0]):\n",
    "  tmp.append(np.array([x for x in X_p[i] if not pd.isnull(x)]))\n",
    "X_p = tmp"
   ]
  },
  {
   "cell_type": "code",
   "execution_count": 34,
   "metadata": {},
   "outputs": [],
   "source": [
    "# np.random.seed(0)\n",
    "# from sklearn.model_selection import train_test_split\n",
    "# # train valid split\n",
    "# X_train, X_valid, y_train, y_valid = train_test_split(X_p, X['essay_set'], test_size=0.2, random_state=0)\n",
    "# y_train = y_train.tolist()\n",
    "# y_valid = y_valid.tolist()\n",
    "\n",
    "\n",
    "# # shuffle y valid\n",
    "# true = y_valid.copy()\n",
    "# np.random.shuffle(y_valid)\n",
    "# true = [1 if x == y else 0 for x, y in zip(true, y_valid)]\n",
    "\n",
    "# # find number of 0 and 1\n",
    "# print('Number of 0:', true.count(0))\n",
    "# print('Number of 1:', true.count(1))\n",
    "# print(len(true))"
   ]
  },
  {
   "cell_type": "code",
   "execution_count": 40,
   "metadata": {},
   "outputs": [],
   "source": [
    "# precompute\n",
    "\n",
    "def modelB(X_train, y_train, novel_essays, novel_essays_prompt):\n",
    "  generic_rate= compute_words_rate(X_train)\n",
    "  prompt_rates= []\n",
    "  for i in range(1, 9):\n",
    "    indices = [j for j, index in enumerate(y_train) if index == i]\n",
    "    prompt_corpus =  [X_train[j] for j in indices]\n",
    "    prompt_rates.append(compute_words_rate(prompt_corpus))\n",
    "  pred = []\n",
    "  i = 0\n",
    "  for essay in novel_essays:\n",
    "    pred.append(compute_psi(essay, generic_rate, prompt_rates[novel_essays_prompt[i] - 1]))\n",
    "    i += 1\n",
    "  return pred"
   ]
  },
  {
   "cell_type": "code",
   "execution_count": 53,
   "metadata": {},
   "outputs": [
    {
     "name": "stdout",
     "output_type": "stream",
     "text": [
      "0.03722947185919021\n"
     ]
    }
   ],
   "source": [
    "# use cross validation to find optimal threshold\n",
    "from sklearn.metrics import roc_curve\n",
    "from sklearn.model_selection import KFold\n",
    "kf = KFold(n_splits=20, random_state=0, shuffle=True)\n",
    "thresholds = []\n",
    "for train_index, test_index in kf.split(X_p):\n",
    "  X_train_cv, X_test_cv = [X_p[i] for i in train_index], [X_p[i] for i in test_index]\n",
    "  y_train_cv, y_test_cv = [prompt_index[i] for i in train_index], [prompt_index[i] for i in test_index]\n",
    "  true = y_test_cv.copy()\n",
    "  np.random.shuffle(y_test_cv)\n",
    "  true = [1 if x == y else 0 for x, y in zip(y_test_cv, true)]\n",
    "  pred_proba = modelB(X_train_cv, y_train_cv, X_test_cv, y_test_cv)\n",
    "  fpr, tpr, threshold = roc_curve(true, pred_proba)\n",
    "  optimal_idx = np.argmax(tpr - fpr)\n",
    "  thresholds.append(threshold[optimal_idx])\n",
    "print(np.mean(thresholds))"
   ]
  },
  {
   "cell_type": "code",
   "execution_count": 37,
   "metadata": {},
   "outputs": [],
   "source": [
    "# stores genereic rate and prompt rates in a csv file\n",
    "# generic_rate= compute_words_rate(X_p)\n",
    "# prompt_rates= []\n",
    "# for i in range(1, 9):\n",
    "#   indices = [j for j, index in enumerate(X[\"essay_set\"]) if index == i]\n",
    "#   prompt_corpus =  [X_p[j] for j in indices]\n",
    "#   prompt_rates.append(compute_words_rate(prompt_corpus))\n",
    "\n",
    "# import csv\n",
    "# with open(os.path.join(SAVE_DIR, 'generic_rates.csv'), 'w') as f:\n",
    "#   writer = csv.writer(f)\n",
    "#   for key, value in generic_rate.items():\n",
    "#     writer.writerow([key, value])\n",
    "# for i in range(1, 9):\n",
    "#   with open(os.path.join(SAVE_DIR, 'prompt_rates_' + str(i) + '.csv'), 'w') as f:\n",
    "#     writer = csv.writer(f)\n",
    "#     for key, value in prompt_rates[i - 1].items():\n",
    "#       writer.writerow([key, value])"
   ]
  },
  {
   "cell_type": "code",
   "execution_count": 38,
   "metadata": {},
   "outputs": [
    {
     "ename": "TypeError",
     "evalue": "modelB() missing 2 required positional arguments: 'novel_essays' and 'novel_essays_prompt'",
     "output_type": "error",
     "traceback": [
      "\u001b[0;31m---------------------------------------------------------------------------\u001b[0m",
      "\u001b[0;31mTypeError\u001b[0m                                 Traceback (most recent call last)",
      "Cell \u001b[0;32mIn[38], line 5\u001b[0m\n\u001b[1;32m      2\u001b[0m \u001b[38;5;28;01mfrom\u001b[39;00m \u001b[38;5;21;01msklearn\u001b[39;00m\u001b[38;5;21;01m.\u001b[39;00m\u001b[38;5;21;01mmetrics\u001b[39;00m \u001b[38;5;28;01mimport\u001b[39;00m roc_curve, auc, RocCurveDisplay\n\u001b[1;32m      3\u001b[0m \u001b[38;5;28;01mfrom\u001b[39;00m \u001b[38;5;21;01mmatplotlib\u001b[39;00m \u001b[38;5;28;01mimport\u001b[39;00m pyplot \u001b[38;5;28;01mas\u001b[39;00m plt\n\u001b[0;32m----> 5\u001b[0m pred_proba \u001b[38;5;241m=\u001b[39m \u001b[43mmodelB\u001b[49m\u001b[43m(\u001b[49m\u001b[43mX_valid\u001b[49m\u001b[43m,\u001b[49m\u001b[43m \u001b[49m\u001b[43my_valid\u001b[49m\u001b[43m)\u001b[49m\n\u001b[1;32m      6\u001b[0m fpr, tpr, threshold \u001b[38;5;241m=\u001b[39m roc_curve(true, pred_proba)\n\u001b[1;32m      7\u001b[0m roc_auc \u001b[38;5;241m=\u001b[39m auc(fpr, tpr)\n",
      "\u001b[0;31mTypeError\u001b[0m: modelB() missing 2 required positional arguments: 'novel_essays' and 'novel_essays_prompt'"
     ]
    }
   ],
   "source": [
    "# find threshold for psi \n",
    "from sklearn.metrics import roc_curve, auc, RocCurveDisplay\n",
    "from matplotlib import pyplot as plt\n",
    "\n",
    "pred_proba = modelB(X_valid, y_valid)\n",
    "fpr, tpr, threshold = roc_curve(true, pred_proba)\n",
    "roc_auc = auc(fpr, tpr)\n",
    "\n",
    "roc_display = RocCurveDisplay(fpr=fpr, tpr=tpr, roc_auc=roc_auc)\n",
    "roc_display.plot()\n",
    "plt.show()\n",
    "\n",
    "# find threshold\n",
    "optimal_idx = np.argmax(tpr - fpr)\n",
    "optimal_threshold = threshold[optimal_idx]\n",
    "print(optimal_threshold)"
   ]
  },
  {
   "cell_type": "code",
   "execution_count": null,
   "metadata": {},
   "outputs": [
    {
     "name": "stdout",
     "output_type": "stream",
     "text": [
      "0.9691833590138675\n",
      "[[2143   71]\n",
      " [   9  373]]\n"
     ]
    }
   ],
   "source": [
    "# compute accuracy, confusion matrix\n",
    "pred_proba = modelB(X_valid, y_valid)\n",
    "pred = np.array([1 if x > optimal_threshold else 0 for x in pred_proba])\n",
    "from sklearn.metrics import accuracy_score\n",
    "accuracy = accuracy_score(true, pred)\n",
    "print(accuracy)\n",
    "\n",
    "from sklearn.metrics import confusion_matrix\n",
    "cm = confusion_matrix(true, pred)\n",
    "print(cm)"
   ]
  },
  {
   "cell_type": "markdown",
   "metadata": {},
   "source": [
    "determine the threshold using the percentile value"
   ]
  },
  {
   "cell_type": "code",
   "execution_count": null,
   "metadata": {},
   "outputs": [
    {
     "name": "stdout",
     "output_type": "stream",
     "text": [
      "0.05306379340615158\n",
      "0.9530046224961479\n",
      "[[2214    0]\n",
      " [ 122  260]]\n"
     ]
    }
   ],
   "source": [
    "pred_proba = modelB(X_valid, y_valid)\n",
    "threshold = np.percentile(pred_proba, 90)\n",
    "print(threshold)\n",
    "# confusion matrix\n",
    "pred = np.array([1 if x > threshold else 0 for x in pred_proba])\n",
    "accuracy = np.mean(pred == true)\n",
    "print(accuracy)\n",
    "\n",
    "cm = confusion_matrix(true, pred)\n",
    "print(cm)"
   ]
  }
 ],
 "metadata": {
  "kernelspec": {
   "display_name": "Python 3",
   "language": "python",
   "name": "python3"
  },
  "language_info": {
   "codemirror_mode": {
    "name": "ipython",
    "version": 3
   },
   "file_extension": ".py",
   "mimetype": "text/x-python",
   "name": "python",
   "nbconvert_exporter": "python",
   "pygments_lexer": "ipython3",
   "version": "3.10.12"
  }
 },
 "nbformat": 4,
 "nbformat_minor": 2
}
